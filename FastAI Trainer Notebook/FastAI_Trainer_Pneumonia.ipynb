{
  "nbformat": 4,
  "nbformat_minor": 0,
  "metadata": {
    "colab": {
      "name": "FastAI Trainer Pneumonia.ipynb",
      "provenance": [],
      "collapsed_sections": []
    },
    "kernelspec": {
      "name": "python3",
      "display_name": "Python 3"
    },
    "language_info": {
      "name": "python"
    },
    "accelerator": "GPU"
  },
  "cells": [
    {
      "cell_type": "code",
      "metadata": {
        "id": "8LIn_5BzPGsX"
      },
      "source": [
        "%%sh\n",
        "pip install -q efficientnet_pytorch"
      ],
      "execution_count": 3,
      "outputs": []
    },
    {
      "cell_type": "code",
      "metadata": {
        "id": "RlDIgyPjOtHB"
      },
      "source": [
        "# Ignore  the warnings\n",
        "import warnings\n",
        "warnings.filterwarnings('always')\n",
        "warnings.filterwarnings('ignore')\n",
        "\n",
        "# data visualisation and manipulation\n",
        "import numpy as np\n",
        "import pandas as pd\n",
        "import matplotlib.pyplot as plt\n",
        "from matplotlib import style\n",
        "import seaborn as sns\n",
        " \n",
        "#configure\n",
        "# sets matplotlib to inline and displays graphs below the corressponding cell.\n",
        "%matplotlib inline\n",
        "style.use('fivethirtyeight')\n",
        "sns.set(style='whitegrid', color_codes=True)\n",
        "\n",
        "from sklearn.metrics import confusion_matrix\n",
        "\n",
        "# specifically for manipulating zipped images and getting numpy arrays of pixel values of images.\n",
        "import cv2                  \n",
        "import numpy as np  \n",
        "from tqdm import tqdm, tqdm_notebook\n",
        "import os, random\n",
        "from random import shuffle  \n",
        "from zipfile import ZipFile\n",
        "from PIL import Image\n",
        "from sklearn.utils import shuffle\n",
        "from efficientnet_pytorch import EfficientNet"
      ],
      "execution_count": 4,
      "outputs": []
    },
    {
      "cell_type": "code",
      "metadata": {
        "colab": {
          "base_uri": "https://localhost:8080/",
          "height": 35
        },
        "id": "mOyiTPaHOzES",
        "outputId": "f6929f3b-bd1e-431c-b53a-4e288d892606"
      },
      "source": [
        "import fastai\n",
        "from fastai import *\n",
        "from fastai.vision import *\n",
        "from fastai.callbacks import *\n",
        "from fastai.basic_train import *\n",
        "from fastai.vision.learner import *\n",
        "\n",
        "fastai.__version__"
      ],
      "execution_count": 2,
      "outputs": [
        {
          "output_type": "execute_result",
          "data": {
            "application/vnd.google.colaboratory.intrinsic+json": {
              "type": "string"
            },
            "text/plain": [
              "'1.0.61'"
            ]
          },
          "metadata": {
            "tags": []
          },
          "execution_count": 2
        }
      ]
    },
    {
      "cell_type": "code",
      "metadata": {
        "id": "Vr4uzBfwO4nC"
      },
      "source": [
        "data = ImageDataBunch.from_df(df=df_train,\n",
        "                              path=PATH, folder='train_images', suffix='.png',\n",
        "                              valid_pct=0.1,\n",
        "                              ds_tfms=get_transforms(flip_vert=True, max_warp=0.1, max_zoom=1.15, max_rotate=45.),\n",
        "                              size=224,\n",
        "                              bs=32, \n",
        "                              num_workers=os.cpu_count()\n",
        "                             )"
      ],
      "execution_count": null,
      "outputs": []
    },
    {
      "cell_type": "code",
      "metadata": {
        "id": "_qQCM5G7PWEe"
      },
      "source": [
        "def EfficientNetB4(pretrained=True):\n",
        "    \"\"\"Constructs a EfficientNet model for FastAI.\n",
        "    Args:\n",
        "        pretrained (bool): If True, returns a model pre-trained on ImageNet\n",
        "    \"\"\"\n",
        "    model = EfficientNet.from_name('efficientnet-b4', override_params={'num_classes':5})\n",
        "\n",
        "    if pretrained:\n",
        "        model_state = torch.load(model_path)\n",
        "        if '_fc.weight' in model_state.keys():\n",
        "            model_state.pop('_fc.weight')\n",
        "            model_state.pop('_fc.bias')\n",
        "            res = model.load_state_dict(model_state, strict=False)\n",
        "            assert str(res.missing_keys) == str(['_fc.weight', '_fc.bias']), 'issue loading pretrained weights'\n",
        "        else:\n",
        "            # A basic remapping is required\n",
        "            from collections import OrderedDict\n",
        "            mapping = { i:o for i,o in zip(model_state.keys(), model.state_dict().keys()) }\n",
        "            mapped_model_state = OrderedDict([\n",
        "                (mapping[k], v) for k,v in model_state.items() if not mapping[k].startswith('_fc')\n",
        "            ])\n",
        "            res = model.load_state_dict(mapped_model_state, strict=False)\n",
        "            print(res)\n",
        "    return model"
      ],
      "execution_count": null,
      "outputs": []
    },
    {
      "cell_type": "code",
      "metadata": {
        "id": "KyaacjlCPbKH"
      },
      "source": [
        "model = EfficientNetB4(pretrained=True)\n",
        "print(model)"
      ],
      "execution_count": null,
      "outputs": []
    },
    {
      "cell_type": "code",
      "metadata": {
        "id": "hdNpeWwSPeto"
      },
      "source": [
        "class FocalLoss(nn.Module):\n",
        "    def __init__(self, gamma=3., reduction='mean'):\n",
        "        super().__init__()\n",
        "        self.gamma = gamma\n",
        "        self.reduction = reduction\n",
        "\n",
        "    def forward(self, inputs, targets):\n",
        "        CE_loss = nn.CrossEntropyLoss(reduction='none')(inputs, targets)\n",
        "        pt = torch.exp(-CE_loss)\n",
        "        F_loss = ((1 - pt)**self.gamma) * CE_loss\n",
        "        if self.reduction == 'sum':\n",
        "            return F_loss.sum()\n",
        "        elif self.reduction == 'mean':\n",
        "            return F_loss.mean()"
      ],
      "execution_count": null,
      "outputs": []
    },
    {
      "cell_type": "code",
      "metadata": {
        "id": "YLqVoXdlPhmG"
      },
      "source": [
        "learn = Learner(data, model,\n",
        "                loss_func=FocalLoss(),\n",
        "                metrics=[accuracy, KappaScore(weights=\"quadratic\")],\n",
        "                callback_fns=[BnFreeze,\n",
        "                              partial(SaveModelCallback, monitor='kappa_score', name='best_kappa')]\n",
        "               )\n",
        "learn.split( lambda m: (model._conv_head,) )\n",
        "learn.freeze()\n",
        "learn.model_dir = '/tmp/'"
      ],
      "execution_count": null,
      "outputs": []
    },
    {
      "cell_type": "code",
      "metadata": {
        "id": "ZJUtSwU0Pu3P"
      },
      "source": [
        "learn.freeze()\n",
        "learn.lr_find(start_lr=1e-5, end_lr=1e1, wd=5e-3)\n",
        "learn.recorder.plot(suggestion=True)"
      ],
      "execution_count": null,
      "outputs": []
    },
    {
      "cell_type": "code",
      "metadata": {
        "id": "8q6ZvsRFPwCG"
      },
      "source": [
        "learn.fit_one_cycle(1, max_lr=3e-3, pct_start=0.1, div_factor=10, final_div=30, wd=5e-3, moms=(0.9, 0.8))\n",
        "learn.save('stage-1')\n",
        "learn.recorder.plot_losses()"
      ],
      "execution_count": null,
      "outputs": []
    },
    {
      "cell_type": "code",
      "metadata": {
        "id": "lnw8KzYwPyBY"
      },
      "source": [
        "learn.unfreeze()\n",
        "learn.lr_find(start_lr=slice(1e-6, 1e-5), end_lr=slice(1e-2, 1e-1), wd=1e-3)\n",
        "learn.recorder.plot(suggestion=True)"
      ],
      "execution_count": null,
      "outputs": []
    },
    {
      "cell_type": "code",
      "metadata": {
        "id": "HRZp9e3NPzvg"
      },
      "source": [
        "# train all layers\n",
        "learn.fit_one_cycle(3, max_lr=slice(1e-4, 1e-3), div_factor=50, final_div=100, wd=1e-3, moms=(0.9, 0.8))\n",
        "learn.save('stage-2')\n",
        "learn.recorder.plot_losses()\n",
        "learn.recorder.plot_lr(show_moms=True)"
      ],
      "execution_count": null,
      "outputs": []
    },
    {
      "cell_type": "code",
      "metadata": {
        "id": "VsGPBvz_P1eG"
      },
      "source": [
        "# train all layers\n",
        "learn.fit_one_cycle(cyc_len=25, max_lr=slice(1e-4, 1e-3), pct_start=0, final_div=1000, wd=1e-3, moms=(0.9, 0.8)) # warm restart: pct_start=0\n",
        "learn.save('stage-3')\n",
        "learn.recorder.plot_losses()\n",
        "learn.recorder.plot_lr(show_moms=True)"
      ],
      "execution_count": null,
      "outputs": []
    },
    {
      "cell_type": "code",
      "metadata": {
        "id": "U0LDJotLP3K-"
      },
      "source": [
        "learn.fit_one_cycle(6, max_lr=1e-3, div_factor=100, wd=1e-2)\n",
        "learn.save('main_model')"
      ],
      "execution_count": null,
      "outputs": []
    }
  ]
}